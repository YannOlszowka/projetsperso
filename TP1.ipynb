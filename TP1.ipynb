{
 "cells": [
  {
   "cell_type": "code",
   "execution_count": 29,
   "id": "937f6911",
   "metadata": {},
   "outputs": [],
   "source": [
    "import pandas as pd\n",
    "import matplotlib.pyplot as plt\n",
    "import numpy as np\n",
    "import seaborn as sns\n",
    "import statsmodels.api as sm\n",
    "from statsmodels.stats.outliers_influence import variance_inflation_factor\n",
    "import scipy as sp"
   ]
  },
  {
   "cell_type": "code",
   "execution_count": 30,
   "id": "2c38b81a",
   "metadata": {},
   "outputs": [
    {
     "name": "stdout",
     "output_type": "stream",
     "text": [
      "      numero     ht  circ  bloc   clone\n",
      "0          1  18.25    36     1  L2-123\n",
      "1          2  19.75    42     1  L2-123\n",
      "2          3  16.50    33     1  L2-123\n",
      "3          4  18.25    39     1  L2-123\n",
      "4          5  19.50    43     1  L2-123\n",
      "...      ...    ...   ...   ...     ...\n",
      "1424    1732  16.50    37     3     2-6\n",
      "1425    1733  17.00    41     3     2-6\n",
      "1426    1735  20.25    50     3     2-6\n",
      "1427    1736  20.25    37     3     2-6\n",
      "1428    1737  19.75    40     3     2-6\n",
      "\n",
      "[1429 rows x 5 columns]\n"
     ]
    }
   ],
   "source": [
    "# On charge les données du CSV dans une dataframe\n",
    "eucalyptus_stats_data = pd.read_csv(\"C:\\\\Users\\\\yanno\\\\OneDrive\\\\Documents\\\\Data Science 1\\\\eucalyptus.csv\", sep=';')\n",
    "print(eucalyptus_stats_data)"
   ]
  },
  {
   "cell_type": "code",
   "execution_count": 31,
   "id": "01744557",
   "metadata": {},
   "outputs": [
    {
     "name": "stdout",
     "output_type": "stream",
     "text": [
      "On jette un coup d'oeil aux premières lignes de notre dataframe\n"
     ]
    },
    {
     "data": {
      "text/html": [
       "<div>\n",
       "<style scoped>\n",
       "    .dataframe tbody tr th:only-of-type {\n",
       "        vertical-align: middle;\n",
       "    }\n",
       "\n",
       "    .dataframe tbody tr th {\n",
       "        vertical-align: top;\n",
       "    }\n",
       "\n",
       "    .dataframe thead th {\n",
       "        text-align: right;\n",
       "    }\n",
       "</style>\n",
       "<table border=\"1\" class=\"dataframe\">\n",
       "  <thead>\n",
       "    <tr style=\"text-align: right;\">\n",
       "      <th></th>\n",
       "      <th>numero</th>\n",
       "      <th>ht</th>\n",
       "      <th>circ</th>\n",
       "      <th>bloc</th>\n",
       "      <th>clone</th>\n",
       "    </tr>\n",
       "  </thead>\n",
       "  <tbody>\n",
       "    <tr>\n",
       "      <th>0</th>\n",
       "      <td>1</td>\n",
       "      <td>18.25</td>\n",
       "      <td>36</td>\n",
       "      <td>1</td>\n",
       "      <td>L2-123</td>\n",
       "    </tr>\n",
       "    <tr>\n",
       "      <th>1</th>\n",
       "      <td>2</td>\n",
       "      <td>19.75</td>\n",
       "      <td>42</td>\n",
       "      <td>1</td>\n",
       "      <td>L2-123</td>\n",
       "    </tr>\n",
       "    <tr>\n",
       "      <th>2</th>\n",
       "      <td>3</td>\n",
       "      <td>16.50</td>\n",
       "      <td>33</td>\n",
       "      <td>1</td>\n",
       "      <td>L2-123</td>\n",
       "    </tr>\n",
       "    <tr>\n",
       "      <th>3</th>\n",
       "      <td>4</td>\n",
       "      <td>18.25</td>\n",
       "      <td>39</td>\n",
       "      <td>1</td>\n",
       "      <td>L2-123</td>\n",
       "    </tr>\n",
       "    <tr>\n",
       "      <th>4</th>\n",
       "      <td>5</td>\n",
       "      <td>19.50</td>\n",
       "      <td>43</td>\n",
       "      <td>1</td>\n",
       "      <td>L2-123</td>\n",
       "    </tr>\n",
       "  </tbody>\n",
       "</table>\n",
       "</div>"
      ],
      "text/plain": [
       "   numero     ht  circ  bloc   clone\n",
       "0       1  18.25    36     1  L2-123\n",
       "1       2  19.75    42     1  L2-123\n",
       "2       3  16.50    33     1  L2-123\n",
       "3       4  18.25    39     1  L2-123\n",
       "4       5  19.50    43     1  L2-123"
      ]
     },
     "execution_count": 31,
     "metadata": {},
     "output_type": "execute_result"
    }
   ],
   "source": [
    "print(\"On jette un coup d'oeil aux premières lignes de notre dataframe\")\n",
    "eucalyptus_stats_data.head()"
   ]
  },
  {
   "cell_type": "code",
   "execution_count": 32,
   "id": "f3bfbb71",
   "metadata": {},
   "outputs": [
    {
     "name": "stdout",
     "output_type": "stream",
     "text": [
      "On jette un coup d'oeil aux types de variables en colonne\n",
      "<class 'pandas.core.frame.DataFrame'>\n",
      "RangeIndex: 1429 entries, 0 to 1428\n",
      "Data columns (total 5 columns):\n",
      " #   Column  Non-Null Count  Dtype  \n",
      "---  ------  --------------  -----  \n",
      " 0   numero  1429 non-null   int64  \n",
      " 1   ht      1429 non-null   float64\n",
      " 2   circ    1429 non-null   int64  \n",
      " 3   bloc    1429 non-null   int64  \n",
      " 4   clone   1429 non-null   object \n",
      "dtypes: float64(1), int64(3), object(1)\n",
      "memory usage: 55.9+ KB\n"
     ]
    }
   ],
   "source": [
    "print(\"On jette un coup d'oeil aux types de variables en colonne\")\n",
    "eucalyptus_stats_data.info()"
   ]
  },
  {
   "cell_type": "code",
   "execution_count": 33,
   "id": "b027afac",
   "metadata": {},
   "outputs": [
    {
     "name": "stdout",
     "output_type": "stream",
     "text": [
      "Il ne manque aucune donnée dans la colonne 'circ' \n"
     ]
    },
    {
     "data": {
      "text/plain": [
       "(0, 5)"
      ]
     },
     "execution_count": 33,
     "metadata": {},
     "output_type": "execute_result"
    }
   ],
   "source": [
    "print(\"Il ne manque aucune donnée dans la colonne 'circ' \")\n",
    "eucalyptus_stats_data[eucalyptus_stats_data['circ'].isna()].shape"
   ]
  },
  {
   "cell_type": "code",
   "execution_count": 34,
   "id": "b0e7e558",
   "metadata": {},
   "outputs": [
    {
     "name": "stdout",
     "output_type": "stream",
     "text": [
      "Il ne manque aucune donnée dans la colonne 'ht' \n"
     ]
    },
    {
     "data": {
      "text/plain": [
       "(0, 5)"
      ]
     },
     "execution_count": 34,
     "metadata": {},
     "output_type": "execute_result"
    }
   ],
   "source": [
    "print(\"Il ne manque aucune donnée dans la colonne 'ht' \")\n",
    "eucalyptus_stats_data[eucalyptus_stats_data['ht'].isna()].shape"
   ]
  },
  {
   "cell_type": "code",
   "execution_count": 35,
   "id": "090862d2",
   "metadata": {},
   "outputs": [],
   "source": [
    "# On met toutes les colonnes aux données de type int64 en type float64\n",
    "cols_to_convert = eucalyptus_stats_data.columns[0:4]\n",
    "eucalyptus_stats_data[cols_to_convert] = eucalyptus_stats_data[cols_to_convert].astype(float)"
   ]
  },
  {
   "cell_type": "code",
   "execution_count": 12,
   "id": "9182c896",
   "metadata": {},
   "outputs": [
    {
     "name": "stdout",
     "output_type": "stream",
     "text": [
      "<class 'pandas.core.frame.DataFrame'>\n",
      "RangeIndex: 1429 entries, 0 to 1428\n",
      "Data columns (total 5 columns):\n",
      " #   Column  Non-Null Count  Dtype  \n",
      "---  ------  --------------  -----  \n",
      " 0   numero  1429 non-null   float64\n",
      " 1   ht      1429 non-null   float64\n",
      " 2   circ    1429 non-null   float64\n",
      " 3   bloc    1429 non-null   float64\n",
      " 4   clone   1429 non-null   object \n",
      "dtypes: float64(4), object(1)\n",
      "memory usage: 55.9+ KB\n"
     ]
    }
   ],
   "source": [
    "eucalyptus_stats_data.info()"
   ]
  },
  {
   "cell_type": "code",
   "execution_count": 67,
   "id": "7a391789",
   "metadata": {},
   "outputs": [
    {
     "name": "stdout",
     "output_type": "stream",
     "text": [
      "On affiche les corrélations entre les données de la dataframe selon leurs colonnes pour l'intuition\n"
     ]
    },
    {
     "data": {
      "text/plain": [
       "<AxesSubplot:>"
      ]
     },
     "execution_count": 67,
     "metadata": {},
     "output_type": "execute_result"
    },
    {
     "data": {
      "image/png": "[encoded data removed]",
      "text/plain": [
       "<Figure size 720x432 with 2 Axes>"
      ]
     },
     "metadata": {
      "needs_background": "light"
     },
     "output_type": "display_data"
    }
   ],
   "source": [
    "# Affiche la corrélation entre les données de la dataframe selon leurs colonnes\n",
    "print(\"On affiche les corrélations entre les données de la dataframe selon leurs colonnes pour l'intuition\")\n",
    "plt.figure(figsize=(10, 6))\n",
    "sns.heatmap(eucalyptus_stats_data.corr(), annot=True, cmap='coolwarm', fmt='.2g')"
   ]
  },
  {
   "cell_type": "code",
   "execution_count": 16,
   "id": "096cb7ea",
   "metadata": {},
   "outputs": [
    {
     "name": "stdout",
     "output_type": "stream",
     "text": [
      "numero    883.216935\n",
      "ht         21.212386\n",
      "circ       47.347796\n",
      "bloc        1.852344\n",
      "dtype: float64\n",
      "La valeur moyenne de 'circ' la circonférence de l'eucalyptus est de :  47.34779566130161  (en cm).\n",
      "La valeur moyenne de 'ht' la hauteur de l'eucalyptus est de :  21.212386284114764  (en m).\n"
     ]
    }
   ],
   "source": [
    "M = eucalyptus_stats_data.mean()\n",
    "print(M)\n",
    "mx = M[2]\n",
    "print(\"La valeur moyenne de 'circ' la circonférence de l'eucalyptus est de : \", mx, \" (en cm).\")\n",
    "my = M[1]\n",
    "print(\"La valeur moyenne de 'ht' la hauteur de l'eucalyptus est de : \", my, \" (en m).\")"
   ]
  },
  {
   "cell_type": "code",
   "execution_count": 68,
   "id": "24080c63",
   "metadata": {},
   "outputs": [
    {
     "name": "stdout",
     "output_type": "stream",
     "text": [
      "[36. 42. 33. ... 50. 37. 40.]\n",
      "[18.25 19.75 16.5  ... 20.25 20.25 19.75]\n"
     ]
    }
   ],
   "source": [
    "# On convertit les vecteurs X et Y en array numpy afin de faciliter les manipulations des données issues de 'circ' et 'ht'\n",
    "X = eucalyptus_stats_data['circ']\n",
    "Y = eucalyptus_stats_data['ht']\n",
    "X = X.to_numpy()\n",
    "print(X)\n",
    "Y = Y.to_numpy()\n",
    "print(Y)"
   ]
  },
  {
   "cell_type": "code",
   "execution_count": 36,
   "id": "ad40ec20",
   "metadata": {},
   "outputs": [
    {
     "name": "stdout",
     "output_type": "stream",
     "text": [
      "26465.694016794976\n",
      "102924.14555633276\n",
      "L'estimateur beta2 =  0.25713785500710995\n",
      "L'estimateur beta1 =  9.037475668452721\n"
     ]
    }
   ],
   "source": [
    "# Calcul des estimateurs beta1 et beta2\n",
    "\n",
    "b21 = 0\n",
    "for i in range (1429):\n",
    "    b21 = b21 + (X[i] - mx)*Y[i]\n",
    "print(b21)\n",
    "    \n",
    "b22 = 0 \n",
    "for i in range (1429):\n",
    "    b22 = b22 + (X[i] - mx)*(X[i] - mx)\n",
    "print(b22)\n",
    "\n",
    "b2 = b21/b22\n",
    "print(\"L'estimateur beta2 = \",b2)\n",
    "\n",
    "b1 = my - b2*mx\n",
    "print(\"L'estimateur beta1 = \",b1)"
   ]
  },
  {
   "cell_type": "code",
   "execution_count": 41,
   "id": "c4b89f45",
   "metadata": {},
   "outputs": [
    {
     "name": "stdout",
     "output_type": "stream",
     "text": [
      "                            OLS Regression Results                            \n",
      "==============================================================================\n",
      "Dep. Variable:                      y   R-squared:                       0.768\n",
      "Model:                            OLS   Adj. R-squared:                  0.768\n",
      "Method:                 Least Squares   F-statistic:                     4732.\n",
      "Date:                Tue, 24 May 2022   Prob (F-statistic):               0.00\n",
      "Time:                        13:51:29   Log-Likelihood:                -2286.2\n",
      "No. Observations:                1429   AIC:                             4576.\n",
      "Df Residuals:                    1427   BIC:                             4587.\n",
      "Df Model:                           1                                         \n",
      "Covariance Type:            nonrobust                                         \n",
      "==============================================================================\n",
      "                 coef    std err          t      P>|t|      [0.025      0.975]\n",
      "------------------------------------------------------------------------------\n",
      "const          9.0375      0.180     50.264      0.000       8.685       9.390\n",
      "x1             0.2571      0.004     68.792      0.000       0.250       0.264\n",
      "==============================================================================\n",
      "Omnibus:                        7.943   Durbin-Watson:                   1.067\n",
      "Prob(Omnibus):                  0.019   Jarque-Bera (JB):                8.015\n",
      "Skew:                          -0.156   Prob(JB):                       0.0182\n",
      "Kurtosis:                       3.193   Cond. No.                         273.\n",
      "==============================================================================\n",
      "\n",
      "Notes:\n",
      "[1] Standard Errors assume that the covariance matrix of the errors is correctly specified.\n",
      "[9.03747567 0.25713786]\n"
     ]
    }
   ],
   "source": [
    "# Définition et lancement du modèle de régression linéaire\n",
    "# Affichage des résultats et paramètres\n",
    "X = sm.add_constant(X)\n",
    "model = sm.OLS(Y, X)\n",
    "result = model.fit()\n",
    "print(result.summary())\n",
    "b = result.params\n",
    "print(b)"
   ]
  },
  {
   "cell_type": "markdown",
   "id": "8dd56e72",
   "metadata": {},
   "source": [
    "# Explication des résultats\n",
    "\n",
    "'Dep. Variable' correspond à la variable qui dépend d'autres variables, ici c'est donc Y.\n",
    "\n",
    "'Model' correspond à la méthode employée, ici OLS signifie 'Ordinary Least Squares', c'est la dénomination anglaise de la méthode des moindres carrés.\n",
    "\n",
    "'Number of observations' correspond à la taille de notre échantillon de données.\n",
    "\n",
    "'Df Residuals' correspond à N-K avec N = la taille de l'échantillon de données et K = le nombre de variables définissant Y + 1.\n",
    "\n",
    "'Df Model' correspond à K-1 avec K = le nombre de variables définissant Y + 1, autrement dit 'Df Model' correspond au nombre de variables définissant Y.\n",
    "\n",
    "'const' correspond à la constante qui participe à définir le modèle (qui est définit par une fonction affine)\n",
    "\n",
    "'circ' correspond au coefficient directeur de notre fonction affine, quand la circonférence augmente de 1 alors la prévision de la taille augmente de 0.2571 à 10^(-4) près.\n",
    "\n",
    "'std err' correspond à la variance, elle diffère selon le paramètre.\n",
    "\n",
    "'[0.025    0.975]' correspond à l'intervalle de confiance de 5%.\n",
    "\n",
    "'R-squared' correspond au coefficient de détermination, ici il nous dit combien de pourcentage des variations de 'ht' peut être expliqué par 'circ', R² est à valeurs dans [0;1], plus R² est grand plus la régression est de bonne qualité. Ici R² = 0.768.\n",
    "\n",
    "'F-Statistic' correspond à la justesse du 'fit' de la régression, plus c'est élevé mieux c'est donc."
   ]
  },
  {
   "cell_type": "code",
   "execution_count": 64,
   "id": "48c8331a",
   "metadata": {},
   "outputs": [
    {
     "name": "stdout",
     "output_type": "stream",
     "text": [
      "[36. 42. 33. ... 50. 37. 40.]\n",
      "[18.25 19.75 16.5  ... 20.25 20.25 19.75]\n",
      "2052.088586410003\n",
      "8857.415762771161\n",
      "Rsquared =  0.7683197174693785\n"
     ]
    }
   ],
   "source": [
    "#Calcul de Rsquared\n",
    "\n",
    "X = eucalyptus_stats_data['circ']\n",
    "X = X.to_numpy()\n",
    "print(X)\n",
    "\n",
    "print(Y)\n",
    "\n",
    "r1 = 0\n",
    "for i in range (1429):\n",
    "    r1 = r1 + (Y[i] - (9.0375 + 0.2571*X[i]))*(Y[i] - (9.0375 + 0.2571*X[i]))\n",
    "print(r1)\n",
    "\n",
    "r2 = 0\n",
    "for i in range (1429):\n",
    "    r2 = r2 + (Y[i] - my)*(Y[i] - my)\n",
    "print(r2)\n",
    "\n",
    "Rsquared = 1 - r1/r2\n",
    "print(\"Rsquared = \",Rsquared)"
   ]
  },
  {
   "cell_type": "markdown",
   "id": "c873843a",
   "metadata": {},
   "source": [
    "# Valeur de R-squared et Rsquared\n",
    "\n",
    "On voit qu'en appliquant la formule du cours on obtient Rsquared = 0.7683197174693785, à 10^(-4) près cela correspond au résultat R-squared obtenu par summary()."
   ]
  },
  {
   "cell_type": "code",
   "execution_count": 43,
   "id": "ca7777dd",
   "metadata": {},
   "outputs": [
    {
     "name": "stdout",
     "output_type": "stream",
     "text": [
      "[-0.04443845 -0.08726558 -1.02302488 ... -1.64436842  1.6984237\n",
      "  0.42701013]\n",
      "[1.97477572e-03 7.61528123e-03 1.04657991e+00 ... 2.70394750e+00\n",
      " 2.88464305e+00 1.82337652e-01]\n",
      "1.438040625100234\n"
     ]
    }
   ],
   "source": [
    "# Calcul de l'estimateur sans biais de la variance\n",
    "\n",
    "res = np.zeros(1429)\n",
    "\n",
    "for i in range(1429):\n",
    "    res[i] = Y[i] - my - b2*(X[i] - mx)\n",
    "print(res)\n",
    "\n",
    "ressquare = np.zeros(1429)\n",
    "\n",
    "for i in range(1429):\n",
    "    ressquare[i] = pow(res[i],2)\n",
    "print(ressquare)\n",
    "\n",
    "varsb = 0\n",
    "for i in range(1429):\n",
    "    varsb = varsb + ressquare[i]/1427\n",
    "print(varsb)"
   ]
  },
  {
   "cell_type": "code",
   "execution_count": 44,
   "id": "da059ca0",
   "metadata": {},
   "outputs": [
    {
     "name": "stdout",
     "output_type": "stream",
     "text": [
      "1079016.3472708182\n",
      "0.0016060101576993156\n",
      "1.3327329365653305e-06\n"
     ]
    }
   ],
   "source": [
    "# Calcul de la variance pour chaque estimateur b1 et b2\n",
    "\n",
    "errx = 0\n",
    "for i in range(1429):\n",
    "    errx = errx + (X[i] - my)*(X[i] - my)\n",
    "print(errx)\n",
    "\n",
    "varb2 = varsb*(1/1429 + pow(my,2)/errx)\n",
    "print(varb2)\n",
    "\n",
    "varb1 = varsb/errx\n",
    "print(varb1)"
   ]
  },
  {
   "cell_type": "markdown",
   "id": "f6d784dd",
   "metadata": {},
   "source": [
    "# A propos de la variance\n",
    "\n",
    "varb1 est différente de std erreur pour la constante, et varb2 est différente de std erreur pour la circonférence"
   ]
  },
  {
   "cell_type": "code",
   "execution_count": 45,
   "id": "ae390f38",
   "metadata": {},
   "outputs": [
    {
     "name": "stdout",
     "output_type": "stream",
     "text": [
      "Intervalle de confiance de b1 :  [9.037473054126757, 9.037478282778686] Intervalle de confiance de b2 :  [0.2539874608507229, 0.260288249163497]\n"
     ]
    }
   ],
   "source": [
    "# Calcul des intervalles de confiance\n",
    "\n",
    "quantile = sp.stats.t.ppf(0.975,df=1427)\n",
    "\n",
    "icb11 = b1 - quantile*varb1\n",
    "icb12 = b1 + quantile*varb1\n",
    "icb21 = b2 - quantile*varb2\n",
    "icb22 = b2 + quantile*varb2\n",
    "\n",
    "print(\"Intervalle de confiance de b1 : \", [icb11 , icb12], \"Intervalle de confiance de b2 : \", [icb21 , icb22])"
   ]
  },
  {
   "cell_type": "markdown",
   "id": "814ea5dd",
   "metadata": {},
   "source": [
    "# A propos des intervalles de confiance\n",
    "\n",
    "L'intervalle de confiance de b1 contient l'intervalle de confiance donné pour la constante par summary() qui par ailleurs est un point.\n",
    "L'intervalle de confiance de b2 quant à lui qui est censé correspondre à l'intervalle de confiance pour la circonférence donné par summary est quant à lui contenu dans ce dernier intervalle. Cependant la longueur du premier intervalle est moins de 2 fois plus petite que la longueur du deuxième. Les résultats ne divergent pas tant que ça l'un de l'autre."
   ]
  },
  {
   "cell_type": "markdown",
   "id": "9bf697e3",
   "metadata": {},
   "source": [
    "# La régression linéaire avec racinecirc"
   ]
  },
  {
   "cell_type": "code",
   "execution_count": 52,
   "id": "acb0f702",
   "metadata": {},
   "outputs": [
    {
     "name": "stdout",
     "output_type": "stream",
     "text": [
      "      numero     ht  circ  bloc   clone\n",
      "0          1  18.25    36     1  L2-123\n",
      "1          2  19.75    42     1  L2-123\n",
      "2          3  16.50    33     1  L2-123\n",
      "3          4  18.25    39     1  L2-123\n",
      "4          5  19.50    43     1  L2-123\n",
      "...      ...    ...   ...   ...     ...\n",
      "1424    1732  16.50    37     3     2-6\n",
      "1425    1733  17.00    41     3     2-6\n",
      "1426    1735  20.25    50     3     2-6\n",
      "1427    1736  20.25    37     3     2-6\n",
      "1428    1737  19.75    40     3     2-6\n",
      "\n",
      "[1429 rows x 5 columns]\n"
     ]
    }
   ],
   "source": [
    "# On charge à nouveau les données dans une autre dataframe\n",
    "eucalyptus = pd.read_csv(\"C:\\\\Users\\\\yanno\\\\OneDrive\\\\Documents\\\\Data Science 1\\\\eucalyptus.csv\", sep=';')\n",
    "print(eucalyptus)"
   ]
  },
  {
   "cell_type": "code",
   "execution_count": 53,
   "id": "6ae1b02f",
   "metadata": {},
   "outputs": [
    {
     "data": {
      "text/html": [
       "<div>\n",
       "<style scoped>\n",
       "    .dataframe tbody tr th:only-of-type {\n",
       "        vertical-align: middle;\n",
       "    }\n",
       "\n",
       "    .dataframe tbody tr th {\n",
       "        vertical-align: top;\n",
       "    }\n",
       "\n",
       "    .dataframe thead th {\n",
       "        text-align: right;\n",
       "    }\n",
       "</style>\n",
       "<table border=\"1\" class=\"dataframe\">\n",
       "  <thead>\n",
       "    <tr style=\"text-align: right;\">\n",
       "      <th></th>\n",
       "      <th>numero</th>\n",
       "      <th>ht</th>\n",
       "      <th>circ</th>\n",
       "      <th>bloc</th>\n",
       "      <th>clone</th>\n",
       "    </tr>\n",
       "  </thead>\n",
       "  <tbody>\n",
       "    <tr>\n",
       "      <th>0</th>\n",
       "      <td>1.0</td>\n",
       "      <td>18.25</td>\n",
       "      <td>36.0</td>\n",
       "      <td>1.0</td>\n",
       "      <td>L2-123</td>\n",
       "    </tr>\n",
       "    <tr>\n",
       "      <th>1</th>\n",
       "      <td>2.0</td>\n",
       "      <td>19.75</td>\n",
       "      <td>42.0</td>\n",
       "      <td>1.0</td>\n",
       "      <td>L2-123</td>\n",
       "    </tr>\n",
       "    <tr>\n",
       "      <th>2</th>\n",
       "      <td>3.0</td>\n",
       "      <td>16.50</td>\n",
       "      <td>33.0</td>\n",
       "      <td>1.0</td>\n",
       "      <td>L2-123</td>\n",
       "    </tr>\n",
       "    <tr>\n",
       "      <th>3</th>\n",
       "      <td>4.0</td>\n",
       "      <td>18.25</td>\n",
       "      <td>39.0</td>\n",
       "      <td>1.0</td>\n",
       "      <td>L2-123</td>\n",
       "    </tr>\n",
       "    <tr>\n",
       "      <th>4</th>\n",
       "      <td>5.0</td>\n",
       "      <td>19.50</td>\n",
       "      <td>43.0</td>\n",
       "      <td>1.0</td>\n",
       "      <td>L2-123</td>\n",
       "    </tr>\n",
       "    <tr>\n",
       "      <th>...</th>\n",
       "      <td>...</td>\n",
       "      <td>...</td>\n",
       "      <td>...</td>\n",
       "      <td>...</td>\n",
       "      <td>...</td>\n",
       "    </tr>\n",
       "    <tr>\n",
       "      <th>1424</th>\n",
       "      <td>1732.0</td>\n",
       "      <td>16.50</td>\n",
       "      <td>37.0</td>\n",
       "      <td>3.0</td>\n",
       "      <td>2-6</td>\n",
       "    </tr>\n",
       "    <tr>\n",
       "      <th>1425</th>\n",
       "      <td>1733.0</td>\n",
       "      <td>17.00</td>\n",
       "      <td>41.0</td>\n",
       "      <td>3.0</td>\n",
       "      <td>2-6</td>\n",
       "    </tr>\n",
       "    <tr>\n",
       "      <th>1426</th>\n",
       "      <td>1735.0</td>\n",
       "      <td>20.25</td>\n",
       "      <td>50.0</td>\n",
       "      <td>3.0</td>\n",
       "      <td>2-6</td>\n",
       "    </tr>\n",
       "    <tr>\n",
       "      <th>1427</th>\n",
       "      <td>1736.0</td>\n",
       "      <td>20.25</td>\n",
       "      <td>37.0</td>\n",
       "      <td>3.0</td>\n",
       "      <td>2-6</td>\n",
       "    </tr>\n",
       "    <tr>\n",
       "      <th>1428</th>\n",
       "      <td>1737.0</td>\n",
       "      <td>19.75</td>\n",
       "      <td>40.0</td>\n",
       "      <td>3.0</td>\n",
       "      <td>2-6</td>\n",
       "    </tr>\n",
       "  </tbody>\n",
       "</table>\n",
       "<p>1429 rows × 5 columns</p>\n",
       "</div>"
      ],
      "text/plain": [
       "      numero     ht  circ  bloc   clone\n",
       "0        1.0  18.25  36.0   1.0  L2-123\n",
       "1        2.0  19.75  42.0   1.0  L2-123\n",
       "2        3.0  16.50  33.0   1.0  L2-123\n",
       "3        4.0  18.25  39.0   1.0  L2-123\n",
       "4        5.0  19.50  43.0   1.0  L2-123\n",
       "...      ...    ...   ...   ...     ...\n",
       "1424  1732.0  16.50  37.0   3.0     2-6\n",
       "1425  1733.0  17.00  41.0   3.0     2-6\n",
       "1426  1735.0  20.25  50.0   3.0     2-6\n",
       "1427  1736.0  20.25  37.0   3.0     2-6\n",
       "1428  1737.0  19.75  40.0   3.0     2-6\n",
       "\n",
       "[1429 rows x 5 columns]"
      ]
     },
     "execution_count": 53,
     "metadata": {},
     "output_type": "execute_result"
    }
   ],
   "source": [
    "# Conversion des colonnes type int64 en type float64\n",
    "cols_to_convert = eucalyptus_stats_data.columns[0:4]\n",
    "eucalyptus[cols_to_convert] = eucalyptus[cols_to_convert].astype(float)\n",
    "eucalyptus"
   ]
  },
  {
   "cell_type": "code",
   "execution_count": 55,
   "id": "aa9599b2",
   "metadata": {},
   "outputs": [
    {
     "name": "stdout",
     "output_type": "stream",
     "text": [
      "[36. 42. 33. ... 50. 37. 40.]\n"
     ]
    }
   ],
   "source": [
    "# On enregistre les données de la colonne 'circ' dans une array numpy et on les y met en float64 afin de faciliter leur manipulation\n",
    "X = eucalyptus['circ']\n",
    "X = X.to_numpy()\n",
    "X = X.astype(float)\n",
    "print(X)"
   ]
  },
  {
   "cell_type": "code",
   "execution_count": 56,
   "id": "c1adb9ed",
   "metadata": {},
   "outputs": [
    {
     "name": "stdout",
     "output_type": "stream",
     "text": [
      "[6.         6.4807407  5.74456265 ... 7.07106781 6.08276253 6.32455532]\n"
     ]
    }
   ],
   "source": [
    "# Chaque élément de l'array devient sa propre racine\n",
    "for i in range(1429):\n",
    "    X[i] = pow(X[i],1/2)\n",
    "print(X)"
   ]
  },
  {
   "cell_type": "code",
   "execution_count": 57,
   "id": "97b0059c",
   "metadata": {},
   "outputs": [],
   "source": [
    "# On rajoute une colonne à notre dataframe selon notre array X\n",
    "eucalyptus['racinecirc'] = X"
   ]
  },
  {
   "cell_type": "code",
   "execution_count": 65,
   "id": "408194cb",
   "metadata": {},
   "outputs": [
    {
     "data": {
      "text/html": [
       "<div>\n",
       "<style scoped>\n",
       "    .dataframe tbody tr th:only-of-type {\n",
       "        vertical-align: middle;\n",
       "    }\n",
       "\n",
       "    .dataframe tbody tr th {\n",
       "        vertical-align: top;\n",
       "    }\n",
       "\n",
       "    .dataframe thead th {\n",
       "        text-align: right;\n",
       "    }\n",
       "</style>\n",
       "<table border=\"1\" class=\"dataframe\">\n",
       "  <thead>\n",
       "    <tr style=\"text-align: right;\">\n",
       "      <th></th>\n",
       "      <th>numero</th>\n",
       "      <th>ht</th>\n",
       "      <th>bloc</th>\n",
       "      <th>clone</th>\n",
       "      <th>racinecirc</th>\n",
       "    </tr>\n",
       "  </thead>\n",
       "  <tbody>\n",
       "    <tr>\n",
       "      <th>0</th>\n",
       "      <td>1.0</td>\n",
       "      <td>18.25</td>\n",
       "      <td>1.0</td>\n",
       "      <td>L2-123</td>\n",
       "      <td>6.000000</td>\n",
       "    </tr>\n",
       "    <tr>\n",
       "      <th>1</th>\n",
       "      <td>2.0</td>\n",
       "      <td>19.75</td>\n",
       "      <td>1.0</td>\n",
       "      <td>L2-123</td>\n",
       "      <td>6.480741</td>\n",
       "    </tr>\n",
       "    <tr>\n",
       "      <th>2</th>\n",
       "      <td>3.0</td>\n",
       "      <td>16.50</td>\n",
       "      <td>1.0</td>\n",
       "      <td>L2-123</td>\n",
       "      <td>5.744563</td>\n",
       "    </tr>\n",
       "    <tr>\n",
       "      <th>3</th>\n",
       "      <td>4.0</td>\n",
       "      <td>18.25</td>\n",
       "      <td>1.0</td>\n",
       "      <td>L2-123</td>\n",
       "      <td>6.244998</td>\n",
       "    </tr>\n",
       "    <tr>\n",
       "      <th>4</th>\n",
       "      <td>5.0</td>\n",
       "      <td>19.50</td>\n",
       "      <td>1.0</td>\n",
       "      <td>L2-123</td>\n",
       "      <td>6.557439</td>\n",
       "    </tr>\n",
       "    <tr>\n",
       "      <th>...</th>\n",
       "      <td>...</td>\n",
       "      <td>...</td>\n",
       "      <td>...</td>\n",
       "      <td>...</td>\n",
       "      <td>...</td>\n",
       "    </tr>\n",
       "    <tr>\n",
       "      <th>1424</th>\n",
       "      <td>1732.0</td>\n",
       "      <td>16.50</td>\n",
       "      <td>3.0</td>\n",
       "      <td>2-6</td>\n",
       "      <td>6.082763</td>\n",
       "    </tr>\n",
       "    <tr>\n",
       "      <th>1425</th>\n",
       "      <td>1733.0</td>\n",
       "      <td>17.00</td>\n",
       "      <td>3.0</td>\n",
       "      <td>2-6</td>\n",
       "      <td>6.403124</td>\n",
       "    </tr>\n",
       "    <tr>\n",
       "      <th>1426</th>\n",
       "      <td>1735.0</td>\n",
       "      <td>20.25</td>\n",
       "      <td>3.0</td>\n",
       "      <td>2-6</td>\n",
       "      <td>7.071068</td>\n",
       "    </tr>\n",
       "    <tr>\n",
       "      <th>1427</th>\n",
       "      <td>1736.0</td>\n",
       "      <td>20.25</td>\n",
       "      <td>3.0</td>\n",
       "      <td>2-6</td>\n",
       "      <td>6.082763</td>\n",
       "    </tr>\n",
       "    <tr>\n",
       "      <th>1428</th>\n",
       "      <td>1737.0</td>\n",
       "      <td>19.75</td>\n",
       "      <td>3.0</td>\n",
       "      <td>2-6</td>\n",
       "      <td>6.324555</td>\n",
       "    </tr>\n",
       "  </tbody>\n",
       "</table>\n",
       "<p>1429 rows × 5 columns</p>\n",
       "</div>"
      ],
      "text/plain": [
       "      numero     ht  bloc   clone  racinecirc\n",
       "0        1.0  18.25   1.0  L2-123    6.000000\n",
       "1        2.0  19.75   1.0  L2-123    6.480741\n",
       "2        3.0  16.50   1.0  L2-123    5.744563\n",
       "3        4.0  18.25   1.0  L2-123    6.244998\n",
       "4        5.0  19.50   1.0  L2-123    6.557439\n",
       "...      ...    ...   ...     ...         ...\n",
       "1424  1732.0  16.50   3.0     2-6    6.082763\n",
       "1425  1733.0  17.00   3.0     2-6    6.403124\n",
       "1426  1735.0  20.25   3.0     2-6    7.071068\n",
       "1427  1736.0  20.25   3.0     2-6    6.082763\n",
       "1428  1737.0  19.75   3.0     2-6    6.324555\n",
       "\n",
       "[1429 rows x 5 columns]"
      ]
     },
     "execution_count": 65,
     "metadata": {},
     "output_type": "execute_result"
    }
   ],
   "source": [
    "# On supprime la colonne 'circ' de notre dataframe car elle ne nous intéresse plus\n",
    "eucalyptus.drop(columns='circ')"
   ]
  },
  {
   "cell_type": "code",
   "execution_count": 59,
   "id": "dcb9690a",
   "metadata": {
    "scrolled": true
   },
   "outputs": [
    {
     "name": "stdout",
     "output_type": "stream",
     "text": [
      "numero        883.216935\n",
      "ht             21.212386\n",
      "circ           47.347796\n",
      "bloc            1.852344\n",
      "racinecirc      6.852064\n",
      "dtype: float64\n",
      "La valeur moyenne de 'racinecirc' la racine de la circonférence de l'eucalyptus est de :  6.852063653822951  (en cm).\n",
      "La valeur moyenne de 'ht' la hauteur de l'eucalyptus est de :  21.212386284114764  (en m).\n"
     ]
    }
   ],
   "source": [
    "# Cela nous aidera par la suite à calculer les estimateurs beta1 et beta2\n",
    "M = eucalyptus.mean()\n",
    "print(M)\n",
    "mx = M[4]\n",
    "print(\"La valeur moyenne de 'racinecirc' la racine de la circonférence de l'eucalyptus est de : \", mx, \" (en cm).\")\n",
    "my = M[1]\n",
    "print(\"La valeur moyenne de 'ht' la hauteur de l'eucalyptus est de : \", my, \" (en m).\")"
   ]
  },
  {
   "cell_type": "code",
   "execution_count": 60,
   "id": "3a240bca",
   "metadata": {},
   "outputs": [
    {
     "name": "stdout",
     "output_type": "stream",
     "text": [
      "[6.         6.4807407  5.74456265 ... 7.07106781 6.08276253 6.32455532]\n",
      "[18.25 19.75 16.5  ... 20.25 20.25 19.75]\n"
     ]
    }
   ],
   "source": [
    "# On convertit les colonnes 'racinecirc' et 'ht' de notre dataframe en arrays afin d'en faciliter la manipulation des données contenues\n",
    "X = eucalyptus['racinecirc']\n",
    "Y = eucalyptus['ht']\n",
    "X = X.to_numpy()\n",
    "print(X)\n",
    "Y = Y.to_numpy()\n",
    "print(Y)"
   ]
  },
  {
   "cell_type": "code",
   "execution_count": 61,
   "id": "e8cd9cd0",
   "metadata": {},
   "outputs": [
    {
     "name": "stdout",
     "output_type": "stream",
     "text": [
      "1982.4240069644932\n",
      "567.3406443764012\n",
      "L'estimateur beta2 =  3.4942393544596064\n",
      "L'estimateur beta1 =  -2.7303641943356745\n"
     ]
    }
   ],
   "source": [
    "# Calcul des estimateurs beta1 et beta2\n",
    "\n",
    "b21 = 0\n",
    "for i in range (1429):\n",
    "    b21 = b21 + (X[i] - mx)*Y[i]\n",
    "print(b21)\n",
    "    \n",
    "b22 = 0 \n",
    "for i in range (1429):\n",
    "    b22 = b22 + (X[i] - mx)*(X[i] - mx)\n",
    "print(b22)\n",
    "\n",
    "b2 = b21/b22\n",
    "print(\"L'estimateur beta2 = \",b2)\n",
    "\n",
    "b1 = my - b2*mx\n",
    "print(\"L'estimateur beta1 = \",b1)"
   ]
  },
  {
   "cell_type": "code",
   "execution_count": 62,
   "id": "aac8a59d",
   "metadata": {},
   "outputs": [
    {
     "name": "stdout",
     "output_type": "stream",
     "text": [
      "                            OLS Regression Results                            \n",
      "==============================================================================\n",
      "Dep. Variable:                      y   R-squared:                       0.782\n",
      "Model:                            OLS   Adj. R-squared:                  0.782\n",
      "Method:                 Least Squares   F-statistic:                     5121.\n",
      "Date:                Tue, 24 May 2022   Prob (F-statistic):               0.00\n",
      "Time:                        14:09:20   Log-Likelihood:                -2242.5\n",
      "No. Observations:                1429   AIC:                             4489.\n",
      "Df Residuals:                    1427   BIC:                             4500.\n",
      "Df Model:                           1                                         \n",
      "Covariance Type:            nonrobust                                         \n",
      "==============================================================================\n",
      "                 coef    std err          t      P>|t|      [0.025      0.975]\n",
      "------------------------------------------------------------------------------\n",
      "const         -2.7304      0.336     -8.126      0.000      -3.389      -2.071\n",
      "x1             3.4942      0.049     71.560      0.000       3.398       3.590\n",
      "==============================================================================\n",
      "Omnibus:                        3.687   Durbin-Watson:                   1.016\n",
      "Prob(Omnibus):                  0.158   Jarque-Bera (JB):                3.579\n",
      "Skew:                          -0.106   Prob(JB):                        0.167\n",
      "Kurtosis:                       3.123   Cond. No.                         76.7\n",
      "==============================================================================\n",
      "\n",
      "Notes:\n",
      "[1] Standard Errors assume that the covariance matrix of the errors is correctly specified.\n",
      "[-2.73036419  3.49423935]\n"
     ]
    }
   ],
   "source": [
    "# Définition et lancement du modèle de régression linéaire\n",
    "# Affichage des résultats et paramètres\n",
    "X = sm.add_constant(X)\n",
    "model = sm.OLS(Y, X)\n",
    "result = model.fit()\n",
    "print(result.summary())\n",
    "b = result.params\n",
    "print(b)"
   ]
  },
  {
   "cell_type": "code",
   "execution_count": 66,
   "id": "c6be1c2b",
   "metadata": {},
   "outputs": [
    {
     "name": "stdout",
     "output_type": "stream",
     "text": [
      "[6.         6.4807407  5.74456265 ... 7.07106781 6.08276253 6.32455532]\n",
      "[18.25 19.75 16.5  ... 20.25 20.25 19.75]\n",
      "1930.3519146301414\n",
      "8857.415762771161\n",
      "Rsquared =  0.7820637569319423\n"
     ]
    }
   ],
   "source": [
    "# Calcul de Rsquared\n",
    "X = eucalyptus['racinecirc']\n",
    "X = X.to_numpy()\n",
    "print(X)\n",
    "\n",
    "print(Y)\n",
    "\n",
    "r1 = 0\n",
    "for i in range (1429):\n",
    "    r1 = r1 + (Y[i] - (-2.7304 + 3.4942*X[i]))*(Y[i] - (-2.7304 + 3.4942*X[i]))\n",
    "print(r1)\n",
    "\n",
    "r2 = 0\n",
    "for i in range (1429):\n",
    "    r2 = r2 + (Y[i] - my)*(Y[i] - my)\n",
    "print(r2)\n",
    "\n",
    "Rsquared = 1 - r1/r2\n",
    "print(\"Rsquared = \",Rsquared)"
   ]
  },
  {
   "cell_type": "markdown",
   "id": "115440b6",
   "metadata": {},
   "source": [
    "# A propos de la régression linéaire la plus approprié\n",
    "\n",
    "Si on en croît la valeur Rsquared obtenue par calcul et non celle donnée par summary(), alors pour cette deuxième régression linéaire on a Rsquared = 0.7820637569319423 de valeur supérieure à la valeur Rsquared = 0.7683197174693785 qu'on avait pour la première régression linéaire.\n",
    "\n",
    "Et donc on en déduit directement que la deuxième régression linéaire (celle avec 'racinecirc') est plus adaptée au nuage de points que la première, autrement dit la deuxième régression linéaire est meilleure.\n",
    "\n",
    "En effet comme 0.7820637569319423 > 0.7683197174693785 , et que Rsquared indique dans quelles proportions la variable explicative explique la variable estimée par le modèle, il est évident que la régression linéaire dont la variable explicative est 'racinecirc' est plus appropriée."
   ]
  }
 ],
 "metadata": {
  "kernelspec": {
   "display_name": "Python 3",
   "language": "python",
   "name": "python3"
  },
  "language_info": {
   "codemirror_mode": {
    "name": "ipython",
    "version": 3
   },
   "file_extension": ".py",
   "mimetype": "text/x-python",
   "name": "python",
   "nbconvert_exporter": "python",
   "pygments_lexer": "ipython3",
   "version": "3.8.8"
  }
 },
 "nbformat": 4,
 "nbformat_minor": 5
}
