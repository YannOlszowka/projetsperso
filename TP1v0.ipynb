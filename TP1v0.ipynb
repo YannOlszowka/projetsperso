{
 "cells": [
  {
   "cell_type": "code",
   "execution_count": 40,
   "id": "1497e4f9",
   "metadata": {},
   "outputs": [],
   "source": [
    "# Importation des librairies nécessaires\n",
    "import pandas as pd\n",
    "import matplotlib.pyplot as plt\n",
    "import numpy as np\n",
    "import seaborn as sns\n",
    "from sklearn.preprocessing import MinMaxScaler\n",
    "from sklearn.preprocessing import StandardScaler\n",
    "from sklearn.model_selection import train_test_split\n",
    "from sklearn.linear_model import LinearRegression\n",
    "from sklearn.linear_model import Lasso\n",
    "from xgboost import XGBRegressor\n",
    "import statsmodels.api as sm\n",
    "from statsmodels.stats.outliers_influence import variance_inflation_factor"
   ]
  },
  {
   "cell_type": "code",
   "execution_count": 3,
   "id": "57106aa3",
   "metadata": {},
   "outputs": [],
   "source": [
    "from sklearn.metrics import mean_squared_error\n",
    "from sklearn.metrics import mean_absolute_error\n",
    "from sklearn.metrics import r2_score"
   ]
  },
  {
   "cell_type": "code",
   "execution_count": 4,
   "id": "8867c2ef",
   "metadata": {},
   "outputs": [],
   "source": [
    "from sklearn.model_selection import cross_val_score\n",
    "from sklearn.model_selection import KFold\n",
    "from sklearn.model_selection import RandomizedSearchCV"
   ]
  },
  {
   "cell_type": "code",
   "execution_count": 12,
   "id": "d3e2fe34",
   "metadata": {
    "scrolled": true
   },
   "outputs": [
    {
     "name": "stdout",
     "output_type": "stream",
     "text": [
      "      numero     ht  circ  bloc   clone\n",
      "0          1  18.25    36     1  L2-123\n",
      "1          2  19.75    42     1  L2-123\n",
      "2          3  16.50    33     1  L2-123\n",
      "3          4  18.25    39     1  L2-123\n",
      "4          5  19.50    43     1  L2-123\n",
      "...      ...    ...   ...   ...     ...\n",
      "1424    1732  16.50    37     3     2-6\n",
      "1425    1733  17.00    41     3     2-6\n",
      "1426    1735  20.25    50     3     2-6\n",
      "1427    1736  20.25    37     3     2-6\n",
      "1428    1737  19.75    40     3     2-6\n",
      "\n",
      "[1429 rows x 5 columns]\n"
     ]
    }
   ],
   "source": [
    "eucalyptus_stats_data = pd.read_csv(\"C:\\\\Users\\\\yanno\\\\OneDrive\\\\Documents\\\\Data Science 1\\\\eucalyptus.csv\", sep=';')\n",
    "print(eucalyptus_stats_data)"
   ]
  },
  {
   "cell_type": "code",
   "execution_count": 13,
   "id": "b0121a12",
   "metadata": {
    "scrolled": true
   },
   "outputs": [
    {
     "data": {
      "text/html": [
       "<div>\n",
       "<style scoped>\n",
       "    .dataframe tbody tr th:only-of-type {\n",
       "        vertical-align: middle;\n",
       "    }\n",
       "\n",
       "    .dataframe tbody tr th {\n",
       "        vertical-align: top;\n",
       "    }\n",
       "\n",
       "    .dataframe thead th {\n",
       "        text-align: right;\n",
       "    }\n",
       "</style>\n",
       "<table border=\"1\" class=\"dataframe\">\n",
       "  <thead>\n",
       "    <tr style=\"text-align: right;\">\n",
       "      <th></th>\n",
       "      <th>numero</th>\n",
       "      <th>ht</th>\n",
       "      <th>circ</th>\n",
       "      <th>bloc</th>\n",
       "      <th>clone</th>\n",
       "    </tr>\n",
       "  </thead>\n",
       "  <tbody>\n",
       "    <tr>\n",
       "      <th>0</th>\n",
       "      <td>1</td>\n",
       "      <td>18.25</td>\n",
       "      <td>36</td>\n",
       "      <td>1</td>\n",
       "      <td>L2-123</td>\n",
       "    </tr>\n",
       "    <tr>\n",
       "      <th>1</th>\n",
       "      <td>2</td>\n",
       "      <td>19.75</td>\n",
       "      <td>42</td>\n",
       "      <td>1</td>\n",
       "      <td>L2-123</td>\n",
       "    </tr>\n",
       "    <tr>\n",
       "      <th>2</th>\n",
       "      <td>3</td>\n",
       "      <td>16.50</td>\n",
       "      <td>33</td>\n",
       "      <td>1</td>\n",
       "      <td>L2-123</td>\n",
       "    </tr>\n",
       "    <tr>\n",
       "      <th>3</th>\n",
       "      <td>4</td>\n",
       "      <td>18.25</td>\n",
       "      <td>39</td>\n",
       "      <td>1</td>\n",
       "      <td>L2-123</td>\n",
       "    </tr>\n",
       "    <tr>\n",
       "      <th>4</th>\n",
       "      <td>5</td>\n",
       "      <td>19.50</td>\n",
       "      <td>43</td>\n",
       "      <td>1</td>\n",
       "      <td>L2-123</td>\n",
       "    </tr>\n",
       "  </tbody>\n",
       "</table>\n",
       "</div>"
      ],
      "text/plain": [
       "   numero     ht  circ  bloc   clone\n",
       "0       1  18.25    36     1  L2-123\n",
       "1       2  19.75    42     1  L2-123\n",
       "2       3  16.50    33     1  L2-123\n",
       "3       4  18.25    39     1  L2-123\n",
       "4       5  19.50    43     1  L2-123"
      ]
     },
     "execution_count": 13,
     "metadata": {},
     "output_type": "execute_result"
    }
   ],
   "source": [
    "eucalyptus_stats_data.head()"
   ]
  },
  {
   "cell_type": "code",
   "execution_count": 14,
   "id": "e9add3de",
   "metadata": {},
   "outputs": [
    {
     "name": "stdout",
     "output_type": "stream",
     "text": [
      "<class 'pandas.core.frame.DataFrame'>\n",
      "RangeIndex: 1429 entries, 0 to 1428\n",
      "Data columns (total 5 columns):\n",
      " #   Column  Non-Null Count  Dtype  \n",
      "---  ------  --------------  -----  \n",
      " 0   numero  1429 non-null   int64  \n",
      " 1   ht      1429 non-null   float64\n",
      " 2   circ    1429 non-null   int64  \n",
      " 3   bloc    1429 non-null   int64  \n",
      " 4   clone   1429 non-null   object \n",
      "dtypes: float64(1), int64(3), object(1)\n",
      "memory usage: 55.9+ KB\n"
     ]
    }
   ],
   "source": [
    "eucalyptus_stats_data.info()"
   ]
  },
  {
   "cell_type": "code",
   "execution_count": 15,
   "id": "4c1da659",
   "metadata": {},
   "outputs": [
    {
     "data": {
      "text/html": [
       "<div>\n",
       "<style scoped>\n",
       "    .dataframe tbody tr th:only-of-type {\n",
       "        vertical-align: middle;\n",
       "    }\n",
       "\n",
       "    .dataframe tbody tr th {\n",
       "        vertical-align: top;\n",
       "    }\n",
       "\n",
       "    .dataframe thead th {\n",
       "        text-align: right;\n",
       "    }\n",
       "</style>\n",
       "<table border=\"1\" class=\"dataframe\">\n",
       "  <thead>\n",
       "    <tr style=\"text-align: right;\">\n",
       "      <th></th>\n",
       "      <th>numero</th>\n",
       "      <th>ht</th>\n",
       "      <th>circ</th>\n",
       "      <th>bloc</th>\n",
       "      <th>clone</th>\n",
       "    </tr>\n",
       "  </thead>\n",
       "  <tbody>\n",
       "  </tbody>\n",
       "</table>\n",
       "</div>"
      ],
      "text/plain": [
       "Empty DataFrame\n",
       "Columns: [numero, ht, circ, bloc, clone]\n",
       "Index: []"
      ]
     },
     "execution_count": 15,
     "metadata": {},
     "output_type": "execute_result"
    }
   ],
   "source": [
    "eucalyptus_stats_data[eucalyptus_stats_data['circ'].isna()].head()"
   ]
  },
  {
   "cell_type": "code",
   "execution_count": 16,
   "id": "f377d627",
   "metadata": {},
   "outputs": [
    {
     "data": {
      "text/html": [
       "<div>\n",
       "<style scoped>\n",
       "    .dataframe tbody tr th:only-of-type {\n",
       "        vertical-align: middle;\n",
       "    }\n",
       "\n",
       "    .dataframe tbody tr th {\n",
       "        vertical-align: top;\n",
       "    }\n",
       "\n",
       "    .dataframe thead th {\n",
       "        text-align: right;\n",
       "    }\n",
       "</style>\n",
       "<table border=\"1\" class=\"dataframe\">\n",
       "  <thead>\n",
       "    <tr style=\"text-align: right;\">\n",
       "      <th></th>\n",
       "      <th>numero</th>\n",
       "      <th>ht</th>\n",
       "      <th>circ</th>\n",
       "      <th>bloc</th>\n",
       "      <th>clone</th>\n",
       "    </tr>\n",
       "  </thead>\n",
       "  <tbody>\n",
       "  </tbody>\n",
       "</table>\n",
       "</div>"
      ],
      "text/plain": [
       "Empty DataFrame\n",
       "Columns: [numero, ht, circ, bloc, clone]\n",
       "Index: []"
      ]
     },
     "execution_count": 16,
     "metadata": {},
     "output_type": "execute_result"
    }
   ],
   "source": [
    "eucalyptus_stats_data[eucalyptus_stats_data['ht'].isna()].head()"
   ]
  },
  {
   "cell_type": "code",
   "execution_count": 18,
   "id": "152826c2",
   "metadata": {},
   "outputs": [
    {
     "data": {
      "text/plain": [
       "(0, 5)"
      ]
     },
     "execution_count": 18,
     "metadata": {},
     "output_type": "execute_result"
    }
   ],
   "source": [
    "eucalyptus_stats_data[eucalyptus_stats_data['circ'].isna()].shape"
   ]
  },
  {
   "cell_type": "code",
   "execution_count": 19,
   "id": "b477d6f2",
   "metadata": {},
   "outputs": [
    {
     "data": {
      "text/plain": [
       "(0, 5)"
      ]
     },
     "execution_count": 19,
     "metadata": {},
     "output_type": "execute_result"
    }
   ],
   "source": [
    "eucalyptus_stats_data[eucalyptus_stats_data['ht'].isna()].shape"
   ]
  },
  {
   "cell_type": "code",
   "execution_count": 26,
   "id": "da63c6bd",
   "metadata": {},
   "outputs": [],
   "source": [
    "# Conversion des colonnes 2-8 to en type float\n",
    "cols_to_convert = eucalyptus_stats_data.columns[0:4]\n",
    "eucalyptus_stats_data[cols_to_convert] = eucalyptus_stats_data[cols_to_convert].astype(float)"
   ]
  },
  {
   "cell_type": "code",
   "execution_count": 27,
   "id": "a271ce70",
   "metadata": {},
   "outputs": [
    {
     "name": "stdout",
     "output_type": "stream",
     "text": [
      "<class 'pandas.core.frame.DataFrame'>\n",
      "RangeIndex: 1429 entries, 0 to 1428\n",
      "Data columns (total 5 columns):\n",
      " #   Column  Non-Null Count  Dtype  \n",
      "---  ------  --------------  -----  \n",
      " 0   numero  1429 non-null   float64\n",
      " 1   ht      1429 non-null   float64\n",
      " 2   circ    1429 non-null   float64\n",
      " 3   bloc    1429 non-null   float64\n",
      " 4   clone   1429 non-null   object \n",
      "dtypes: float64(4), object(1)\n",
      "memory usage: 55.9+ KB\n"
     ]
    }
   ],
   "source": [
    "eucalyptus_stats_data.info()"
   ]
  },
  {
   "cell_type": "code",
   "execution_count": 28,
   "id": "b74cd01f",
   "metadata": {},
   "outputs": [
    {
     "data": {
      "text/plain": [
       "1429"
      ]
     },
     "execution_count": 28,
     "metadata": {},
     "output_type": "execute_result"
    }
   ],
   "source": [
    "len(eucalyptus_stats_data)"
   ]
  },
  {
   "cell_type": "markdown",
   "id": "c4217e0b",
   "metadata": {},
   "source": [
    "# HELLO BITCH"
   ]
  },
  {
   "cell_type": "code",
   "execution_count": 29,
   "id": "fd670443",
   "metadata": {},
   "outputs": [],
   "source": [
    "# Définition d'une fonction permettant d'afficher les nuages de points de la variable réponse en fonction \n",
    "# de chacune des variables préditive en fonction de chacune des variables prédictives\n",
    "\n",
    "def plot_relations(df, num_cols):\n",
    "    variables = df.columns\n",
    "    # Cette fonction suppose que la variable réponse est dans la dernière colonne\n",
    "    dep_var = variables[-1]\n",
    "    ind_var = variables[:-1]\n",
    "    figs = len(dep_var)\n",
    "    num_cols = num_cols\n",
    "    num_rows = round(figs / num_cols) + 1\n",
    "    fig = 1\n",
    "    plt.figure(figsize=(20,30))\n",
    "    # Boucle sur chacune des variables prédictive pour afficher le nuage de points correspondant\n",
    "    for i in ind_var:\n",
    "        pltfignums = [str(num_rows), str(num_cols), str(fig)]\n",
    "        pltfig = int(''.join(pltfignums))\n",
    "        plt.subplot(pltfig)\n",
    "        plt.scatter(df[i], df[dep_var])\n",
    "        plt.xlabel(str(i))\n",
    "        plt.ylabel(str(dep_var))\n",
    "        fig +=1"
   ]
  },
  {
   "cell_type": "code",
   "execution_count": 32,
   "id": "37816fad",
   "metadata": {},
   "outputs": [],
   "source": [
    "columns_titles = [\"numero\",\"clone\",\"bloc\",\"circ\",\"ht\"]\n",
    "eucalyptus_stats_data = eucalyptus_stats_data.reindex(columns=columns_titles)"
   ]
  },
  {
   "cell_type": "code",
   "execution_count": 33,
   "id": "46bf009b",
   "metadata": {},
   "outputs": [
    {
     "data": {
      "image/png": "[encoded data removed]",
      "text/plain": [
       "<Figure size 1440x2160 with 4 Axes>"
      ]
     },
     "metadata": {
      "needs_background": "light"
     },
     "output_type": "display_data"
    }
   ],
   "source": [
    "plot_relations(eucalyptus_stats_data, 3)"
   ]
  },
  {
   "cell_type": "code",
   "execution_count": 35,
   "id": "9f1a8f02",
   "metadata": {},
   "outputs": [
    {
     "data": {
      "text/plain": [
       "<AxesSubplot:>"
      ]
     },
     "execution_count": 35,
     "metadata": {},
     "output_type": "execute_result"
    },
    {
     "data": {
      "image/png": "[encoded data removed]",
      "text/plain": [
       "<Figure size 720x432 with 2 Axes>"
      ]
     },
     "metadata": {
      "needs_background": "light"
     },
     "output_type": "display_data"
    }
   ],
   "source": [
    "plt.figure(figsize=(10, 6))\n",
    "sns.heatmap(eucalyptus_stats_data.corr(), annot=True, cmap='coolwarm', fmt='.2g')"
   ]
  },
  {
   "cell_type": "code",
   "execution_count": null,
   "id": "25859b59",
   "metadata": {},
   "outputs": [],
   "source": []
  },
  {
   "cell_type": "code",
   "execution_count": 156,
   "id": "4721f394",
   "metadata": {},
   "outputs": [],
   "source": [
    "eucalyptus_stats_data['Prevision'] = eucalyptus_stats_data['circ'] * b2 + b1\n",
    "model = sm.OLS(eucalyptus_stats_data['Y'], eucalyptus_stats_data['circ'])\n",
    "result = model.fit()"
   ]
  },
  {
   "cell_type": "code",
   "execution_count": 157,
   "id": "6645b031",
   "metadata": {},
   "outputs": [
    {
     "name": "stdout",
     "output_type": "stream",
     "text": [
      "                                 OLS Regression Results                                \n",
      "=======================================================================================\n",
      "Dep. Variable:                      Y   R-squared (uncentered):                   0.444\n",
      "Model:                            OLS   Adj. R-squared (uncentered):              0.444\n",
      "Method:                 Least Squares   F-statistic:                              1140.\n",
      "Date:                Mon, 23 May 2022   Prob (F-statistic):                   3.45e-184\n",
      "Time:                        14:46:04   Log-Likelihood:                         -6315.0\n",
      "No. Observations:                1429   AIC:                                  1.263e+04\n",
      "Df Residuals:                    1428   BIC:                                  1.264e+04\n",
      "Df Model:                           1                                                  \n",
      "Covariance Type:            nonrobust                                                  \n",
      "==============================================================================\n",
      "                 coef    std err          t      P>|t|      [0.025      0.975]\n",
      "------------------------------------------------------------------------------\n",
      "circ           0.3732      0.011     33.762      0.000       0.351       0.395\n",
      "==============================================================================\n",
      "Omnibus:                       13.827   Durbin-Watson:                   1.228\n",
      "Prob(Omnibus):                  0.001   Jarque-Bera (JB):               12.367\n",
      "Skew:                           0.175   Prob(JB):                      0.00206\n",
      "Kurtosis:                       2.709   Cond. No.                         1.00\n",
      "==============================================================================\n",
      "\n",
      "Notes:\n",
      "[1] R² is computed without centering (uncentered) since the model does not contain a constant.\n",
      "[2] Standard Errors assume that the covariance matrix of the errors is correctly specified.\n"
     ]
    }
   ],
   "source": [
    "print(result.summary())"
   ]
  },
  {
   "cell_type": "markdown",
   "id": "01597d20",
   "metadata": {},
   "source": [
    "# Explication des résultats\n",
    "\n",
    "'Dep. Variable' correspond à la variable qui dépend d'autres variables, ici c'est donc Y.\n",
    "\n",
    "'Model' correspond à la méthode employée, ici OLS signifie 'Ordinary Least Squares', c'est la dénomination anglaise de la méthode des moindres carrés.\n",
    "\n",
    "'Number of observations' correspond à la taille de notre échantillon de données.\n",
    "\n",
    "'Df Residuals' correspond à N-K avec N = la taille de l'échantillon de données et K = le nombre de variables définissant Y + 1.\n",
    "\n",
    "'Df Model' correspond à K-1 avec K = le nombre de variables définissant Y + 1, autrement dit 'Df Model' correspond au nombre de variables définissant Y.\n",
    "\n"
   ]
  },
  {
   "cell_type": "code",
   "execution_count": null,
   "id": "0a613abf",
   "metadata": {},
   "outputs": [],
   "source": [
    "eucalyptus_stats_data.mean()\n",
    "b2 = eucalyptus_stats_data.sum(axis = 1, skipna = True)\n",
    "b1 = \n",
    "eucalyptus_stats_data\n",
    "eucalyptus_stats_data\n",
    "eucalyptus_stats_data"
   ]
  },
  {
   "cell_type": "code",
   "execution_count": 121,
   "id": "35863f8f",
   "metadata": {},
   "outputs": [],
   "source": [
    "X = eucalyptus_stats_data['circ']\n",
    "Y = eucalyptus_stats_data['ht']"
   ]
  },
  {
   "cell_type": "code",
   "execution_count": 124,
   "id": "b6643776",
   "metadata": {},
   "outputs": [],
   "source": [
    "X = X.to_numpy()"
   ]
  },
  {
   "cell_type": "code",
   "execution_count": 125,
   "id": "b6457863",
   "metadata": {},
   "outputs": [
    {
     "data": {
      "text/plain": [
       "array([36., 42., 33., ..., 50., 37., 40.])"
      ]
     },
     "execution_count": 125,
     "metadata": {},
     "output_type": "execute_result"
    }
   ],
   "source": [
    "X"
   ]
  },
  {
   "cell_type": "code",
   "execution_count": 130,
   "id": "c4928050",
   "metadata": {},
   "outputs": [],
   "source": [
    "Y = Y.to_numpy()"
   ]
  },
  {
   "cell_type": "code",
   "execution_count": 131,
   "id": "c962eb5b",
   "metadata": {},
   "outputs": [
    {
     "data": {
      "text/plain": [
       "array([18.25, 19.75, 16.5 , ..., 20.25, 20.25, 19.75])"
      ]
     },
     "execution_count": 131,
     "metadata": {},
     "output_type": "execute_result"
    }
   ],
   "source": [
    "Y"
   ]
  },
  {
   "cell_type": "code",
   "execution_count": null,
   "id": "9748e831",
   "metadata": {},
   "outputs": [],
   "source": [
    "mx = mean\n",
    "my = "
   ]
  },
  {
   "cell_type": "code",
   "execution_count": 147,
   "id": "4839ef3e",
   "metadata": {},
   "outputs": [
    {
     "name": "stdout",
     "output_type": "stream",
     "text": [
      "-209.5428621413576\n",
      "107.07687504805243\n",
      "-1.9569385270846011\n",
      "113.86911178624501\n"
     ]
    }
   ],
   "source": [
    "b21 = 0\n",
    "for i in range (1428):\n",
    "    b21 = (X[i] - mx)*Y[i]\n",
    "print(b21)\n",
    "    \n",
    "b22 = 0 \n",
    "for i in range (1428):\n",
    "    b22 = (X[i] - mx)*(X[i] - mx)\n",
    "print(b22)\n",
    "\n",
    "b2 = b21/b22\n",
    "print(b2)\n",
    "\n",
    "b1 = my - b2*mx\n",
    "print(b1)"
   ]
  },
  {
   "cell_type": "code",
   "execution_count": 134,
   "id": "bfbe19f7",
   "metadata": {},
   "outputs": [
    {
     "name": "stderr",
     "output_type": "stream",
     "text": [
      "C:\\Users\\yanno\\AppData\\Local\\Temp\\ipykernel_14012\\3148353619.py:1: FutureWarning: Dropping of nuisance columns in DataFrame reductions (with 'numeric_only=None') is deprecated; in a future version this will raise TypeError.  Select only valid columns before calling the reduction.\n",
      "  M = eucalyptus_stats_data.mean()\n"
     ]
    }
   ],
   "source": [
    "M = eucalyptus_stats_data.mean()"
   ]
  },
  {
   "cell_type": "code",
   "execution_count": 135,
   "id": "ffd81612",
   "metadata": {},
   "outputs": [
    {
     "data": {
      "text/plain": [
       "numero    883.216935\n",
       "bloc        1.852344\n",
       "circ       47.347796\n",
       "ht         21.212386\n",
       "Y          23.973898\n",
       "dtype: float64"
      ]
     },
     "execution_count": 135,
     "metadata": {},
     "output_type": "execute_result"
    }
   ],
   "source": [
    "M"
   ]
  },
  {
   "cell_type": "code",
   "execution_count": 138,
   "id": "bf2b049f",
   "metadata": {},
   "outputs": [],
   "source": [
    "mx = M[2]\n",
    "my = M[3]"
   ]
  },
  {
   "cell_type": "code",
   "execution_count": 139,
   "id": "5c123de1",
   "metadata": {},
   "outputs": [
    {
     "data": {
      "text/plain": [
       "47.34779566130161"
      ]
     },
     "execution_count": 139,
     "metadata": {},
     "output_type": "execute_result"
    }
   ],
   "source": [
    "mx"
   ]
  },
  {
   "cell_type": "code",
   "execution_count": 140,
   "id": "bb7be239",
   "metadata": {},
   "outputs": [
    {
     "data": {
      "text/plain": [
       "21.212386284114764"
      ]
     },
     "execution_count": 140,
     "metadata": {},
     "output_type": "execute_result"
    }
   ],
   "source": [
    "my"
   ]
  },
  {
   "cell_type": "code",
   "execution_count": 154,
   "id": "cd415af6",
   "metadata": {},
   "outputs": [
    {
     "ename": "NameError",
     "evalue": "name 'y' is not defined",
     "output_type": "error",
     "traceback": [
      "\u001b[1;31m---------------------------------------------------------------------------\u001b[0m",
      "\u001b[1;31mNameError\u001b[0m                                 Traceback (most recent call last)",
      "Input \u001b[1;32mIn [154]\u001b[0m, in \u001b[0;36m<cell line: 2>\u001b[1;34m()\u001b[0m\n\u001b[0;32m      1\u001b[0m \u001b[38;5;28;01mimport\u001b[39;00m \u001b[38;5;21;01mstatsmodels\u001b[39;00m\u001b[38;5;21;01m.\u001b[39;00m\u001b[38;5;21;01mapi\u001b[39;00m \u001b[38;5;28;01mas\u001b[39;00m \u001b[38;5;21;01msm\u001b[39;00m\n\u001b[1;32m----> 2\u001b[0m model \u001b[38;5;241m=\u001b[39m sm\u001b[38;5;241m.\u001b[39mOLS(\u001b[43my\u001b[49m, x)\u001b[38;5;241m.\u001b[39mfit()\n",
      "\u001b[1;31mNameError\u001b[0m: name 'y' is not defined"
     ]
    }
   ],
   "source": [
    "import statsmodels.api as sm\n",
    "model = sm.OLS(y, x)\n",
    "result = model.fit()\n",
    "#Régression avec les moindre carrés ordinaires (OLS)"
   ]
  },
  {
   "cell_type": "code",
   "execution_count": null,
   "id": "c0bcdd38",
   "metadata": {},
   "outputs": [],
   "source": []
  }
 ],
 "metadata": {
  "kernelspec": {
   "display_name": "Python 3 (ipykernel)",
   "language": "python",
   "name": "python3"
  },
  "language_info": {
   "codemirror_mode": {
    "name": "ipython",
    "version": 3
   },
   "file_extension": ".py",
   "mimetype": "text/x-python",
   "name": "python",
   "nbconvert_exporter": "python",
   "pygments_lexer": "ipython3",
   "version": "3.10.4"
  }
 },
 "nbformat": 4,
 "nbformat_minor": 5
}
