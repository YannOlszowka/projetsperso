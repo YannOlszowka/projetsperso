{
 "cells": [
  {
   "cell_type": "code",
   "execution_count": 1,
   "id": "f4753f77",
   "metadata": {},
   "outputs": [],
   "source": [
    "import tensorflow.compat.v1 as tf\n",
    "tf.disable_eager_execution()\n",
    "import numpy as np"
   ]
  },
  {
   "cell_type": "code",
   "execution_count": 2,
   "id": "7ec5c77e",
   "metadata": {},
   "outputs": [],
   "source": [
    "sess = tf.Session()"
   ]
  },
  {
   "cell_type": "code",
   "execution_count": 3,
   "id": "d0e3f257",
   "metadata": {},
   "outputs": [],
   "source": [
    "def sigmoid(x):\n",
    "\treturn 1/(1+np.exp(-x))"
   ]
  },
  {
   "cell_type": "code",
   "execution_count": 4,
   "id": "08d29a5f",
   "metadata": {},
   "outputs": [],
   "source": [
    "# Caractéristiques du réseau\n",
    "# -------------------------\n",
    "ni = 3 # neurones en entrée\n",
    "nh = 4 # 4 neurones sur la couche cachée\n",
    "ns = 1 # 1 neurone en sortie\n",
    "nd = 4 # 4 jeux de données"
   ]
  },
  {
   "cell_type": "code",
   "execution_count": 5,
   "id": "177f6cff",
   "metadata": {},
   "outputs": [],
   "source": [
    "W = tf.Variable(tf.ones([ni, nh]))\n",
    "b = tf.Variable(tf.ones([nh, nd]))\n",
    "h = tf.Variable(tf.ones([nh, nd]))\n",
    "a = tf.Variable(tf.ones([nd]))\n",
    "o = tf.Variable(tf.ones([nd]))\n",
    "Z = tf.Variable(tf.ones([nh, ns]))\n",
    "b_hidden = tf.Variable(tf.zeros([nh, nd]))\n",
    "b_sortie = tf.Variable(tf.zeros([ns, nd]))"
   ]
  },
  {
   "cell_type": "code",
   "execution_count": 6,
   "id": "507a6424",
   "metadata": {},
   "outputs": [],
   "source": [
    "x = tf.placeholder(\"float\", [ni, nd])\n",
    "t = tf.placeholder(\"float\", [ns, nd])"
   ]
  },
  {
   "cell_type": "code",
   "execution_count": 7,
   "id": "26b47861",
   "metadata": {},
   "outputs": [],
   "source": [
    "# Calculs\n",
    "W1_Transposee = tf.transpose(W)\n",
    "M = tf.matmul(W1_Transposee, x)\n",
    "b = tf.add(M,b_hidden)\n",
    "h = tf.sigmoid(b)"
   ]
  },
  {
   "cell_type": "code",
   "execution_count": 8,
   "id": "17942604",
   "metadata": {},
   "outputs": [],
   "source": [
    "Z_Transposee = tf.transpose(Z)\n",
    "a = tf.add(tf.matmul(Z_Transposee, h),b_sortie)\n",
    "o = tf.sigmoid(a)"
   ]
  },
  {
   "cell_type": "code",
   "execution_count": 9,
   "id": "f31d44ec",
   "metadata": {},
   "outputs": [],
   "source": [
    "erreur = tf.reduce_mean(tf.abs(tf.subtract(o,t)))"
   ]
  },
  {
   "cell_type": "code",
   "execution_count": 10,
   "id": "402eb60b",
   "metadata": {},
   "outputs": [],
   "source": [
    "train_step = tf.train.AdadeltaOptimizer(learning_rate=1.0).minimize(erreur)"
   ]
  },
  {
   "cell_type": "code",
   "execution_count": 11,
   "id": "1b555905",
   "metadata": {},
   "outputs": [],
   "source": [
    "x_raw = np.array([[0.0,0.0,1.0,1.0],\n",
    "                        [0.0,1.0,0.0,1.0],\n",
    "                        [1.0,1.0,1.0,1.0]\n",
    "                        ])\n",
    "t_raw = np.array([0,0,1,1]).T\n",
    "t_raw = np.reshape(t_raw,(1,4))"
   ]
  },
  {
   "cell_type": "code",
   "execution_count": 12,
   "id": "8fbc1740",
   "metadata": {},
   "outputs": [
    {
     "name": "stdout",
     "output_type": "stream",
     "text": [
      "valeur avant apprentissage = \n",
      "[[0.94903153 0.9713404  0.9713404  0.978338  ]]\n",
      "valeur obtenue apres apprentissage = \n",
      "[[0.19880241 0.10237539 0.96874464 0.9712252 ]]\n",
      "fin\n"
     ]
    }
   ],
   "source": [
    "# affichage\n",
    "normal_rv = tf.Variable( tf.truncated_normal([2,3],stddev = 0.1))\n",
    "\n",
    "with tf.Session() as sess:\n",
    "\tsess.run(tf.global_variables_initializer())\n",
    "\n",
    "\tvaleur = o.eval({x: x_raw})\n",
    "\tprint(\"valeur avant apprentissage = \")\n",
    "\tprint(valeur)\n",
    "\n",
    "\tfor epoch in range(1000):\n",
    "\t\tk = sess.run(train_step,feed_dict={x: x_raw,t: t_raw})\n",
    "\n",
    "\tvaleur = o.eval({x: x_raw})\n",
    "\tprint(\"valeur obtenue apres apprentissage = \")\n",
    "\tprint(valeur)\n",
    "print(\"fin\")"
   ]
  }
 ],
 "metadata": {
  "kernelspec": {
   "display_name": "Python 3 (ipykernel)",
   "language": "python",
   "name": "python3"
  },
  "language_info": {
   "codemirror_mode": {
    "name": "ipython",
    "version": 3
   },
   "file_extension": ".py",
   "mimetype": "text/x-python",
   "name": "python",
   "nbconvert_exporter": "python",
   "pygments_lexer": "ipython3",
   "version": "3.9.12"
  }
 },
 "nbformat": 4,
 "nbformat_minor": 5
}
