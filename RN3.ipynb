{
 "cells": [
  {
   "cell_type": "code",
   "execution_count": 2,
   "id": "8162cac9",
   "metadata": {},
   "outputs": [],
   "source": [
    "import tensorflow.compat.v1 as tf\n",
    "tf.disable_eager_execution()\n",
    "import numpy as np\n",
    "\n",
    "sess = tf.Session()"
   ]
  },
  {
   "cell_type": "code",
   "execution_count": 3,
   "id": "0dd35e38",
   "metadata": {},
   "outputs": [],
   "source": [
    "def sigmoid(x):\n",
    "\treturn 1/(1+np.exp(-x))\n",
    "\n",
    "# Caractéristiques du réseau\n",
    "# -------------------------\n",
    "ni = 1 # neurones en entrée\n",
    "nh1 = 10 # 4 neurones sur la couche cachée 1\n",
    "nh2 = 5 # 4 neurones sur la couche cachée 2\n",
    "ns = 1 # 1 neurone en sortie\n",
    "nd = 17 # 4 jeux de données"
   ]
  },
  {
   "cell_type": "code",
   "execution_count": 4,
   "id": "d8531db1",
   "metadata": {},
   "outputs": [],
   "source": [
    "# Les variables\n",
    "M = tf.Variable(tf.ones([ni, nh1]))\n",
    "\n",
    "c = tf.Variable(tf.ones([nh1, nd]))\n",
    "q = tf.Variable(tf.ones([nh1, nd]))\n",
    "\n",
    "W = tf.Variable(tf.ones([nh1, nh2]))\n",
    "b = tf.Variable(tf.ones([nh2, nd]))\n",
    "h = tf.Variable(tf.ones([nh2, nd]))\n",
    "\n",
    "Z = tf.Variable(tf.ones([nh2, ns]))\n",
    "\n",
    "a = tf.Variable(tf.ones([nd]))\n",
    "o = tf.Variable(tf.ones([nd]))\n",
    "\n",
    "b_hidden1 = tf.Variable(tf.ones([nh1, nd]))\n",
    "b_hidden2 = tf.Variable(tf.ones([nh2, nd]))\n",
    "b_sortie = tf.Variable(tf.ones([ns, nd]))\n",
    "\n",
    "x = tf.placeholder(\"float\", [ni, nd])\n",
    "t = tf.placeholder(\"float\", [ns, nd])"
   ]
  },
  {
   "cell_type": "code",
   "execution_count": 5,
   "id": "048b4ebc",
   "metadata": {},
   "outputs": [],
   "source": [
    "# Le reseau\n",
    "M_Transposee = tf.transpose(M)\n",
    "\n",
    "M_Multi = tf.matmul(M_Transposee, x)\n",
    "c = tf.add(M_Multi,b_hidden1)\n",
    "q = tf.sigmoid(c)\n",
    "\n",
    "W1_Transposee = tf.transpose(W)\n",
    "W_Multi = tf.matmul(W1_Transposee, q)\n",
    "b = tf.add(W_Multi,b_hidden2)\n",
    "h = tf.sigmoid(b)\n",
    "\n",
    "Z_Transposee = tf.transpose(Z)\n",
    "Z_Multi = tf.matmul(Z_Transposee, h)\n",
    "a = tf.add(Z_Multi,b_sortie)\n",
    "o = 2*tf.sigmoid(a)-1"
   ]
  },
  {
   "cell_type": "code",
   "execution_count": 6,
   "id": "2b715682",
   "metadata": {},
   "outputs": [],
   "source": [
    "# La fonction de cout\n",
    "erreur = tf.reduce_mean(tf.abs(tf.subtract(o,t)))\n",
    "train_step = tf.train.AdadeltaOptimizer(learning_rate=1.0).minimize(erreur)"
   ]
  },
  {
   "cell_type": "code",
   "execution_count": 7,
   "id": "471e4fcb",
   "metadata": {},
   "outputs": [],
   "source": [
    "x_raw = np.array([[0.1,0.2,0.3,0.4,1.4,1.5,\n",
    "                   2.8,2.9,3.0,4.6,4.7,6.4,6.5,\n",
    "                   7.4,7.5,7.9,9.0]])\n",
    "x_raw = np.reshape(x_raw,(1,17))\n",
    "\n",
    "t_raw = np.array([np.cos(0.1), np.cos(0.2), np.cos(0.3), np.cos(0.4),\n",
    "                  np.cos(1.4), np.cos(1.5), np.cos(2.8), np.cos(2.9), np.cos(3.0),\n",
    "                  np.cos(4.6), np.cos(4.7), np.cos(6.4), np.cos(6.5),\n",
    "                  np.cos(7.4), np.cos(7.5), np.cos(7.9), np.cos(9.0)]).T\n",
    "t_raw = np.reshape(t_raw,(1,17))"
   ]
  },
  {
   "cell_type": "code",
   "execution_count": 13,
   "id": "f6ee9af1",
   "metadata": {},
   "outputs": [
    {
     "name": "stdout",
     "output_type": "stream",
     "text": [
      "valeur avant apprentissage = \n",
      "[[0.9950497  0.99505067 0.99505126 0.99505174 0.99505377 0.995054\n",
      "  0.99505424 0.99505424 0.9950545  0.99505436 0.99505424 0.99505424\n",
      "  0.99505424 0.99505424 0.99505424 0.99505424 0.99505424]]\n",
      "valeur obtenue apres apprentissage = \n",
      "[[ 0.99498296  0.97997284  0.95511293  0.92053103  0.15395975  0.06026161\n",
      "  -0.9459571  -0.9728379  -0.9906433  -0.13941944 -0.04912639  0.99315286\n",
      "   0.9764502   0.43316197  0.33785975 -0.07166022 -0.9168765 ]]\n",
      "fin\n"
     ]
    }
   ],
   "source": [
    "# affichage\n",
    "normal_rv = tf.Variable( tf.truncated_normal([2,3],stddev = 0.1))\n",
    "\n",
    "with tf.Session() as sess:\n",
    "    sess.run(tf.global_variables_initializer())\n",
    "\n",
    "    valeur = o.eval({x: x_raw})\n",
    "    print(\"valeur avant apprentissage = \")\n",
    "    print(valeur)\n",
    "\n",
    "    for epoch in range(10000):\n",
    "        k = sess.run(train_step,feed_dict={x: x_raw,t: t_raw})\n",
    "\n",
    "    valeur = o.eval({x: x_raw})\n",
    "    print(\"valeur obtenue apres apprentissage = \")\n",
    "    print(valeur)\n",
    "\n",
    "print(\"fin\")"
   ]
  }
 ],
 "metadata": {
  "kernelspec": {
   "display_name": "Python 3 (ipykernel)",
   "language": "python",
   "name": "python3"
  },
  "language_info": {
   "codemirror_mode": {
    "name": "ipython",
    "version": 3
   },
   "file_extension": ".py",
   "mimetype": "text/x-python",
   "name": "python",
   "nbconvert_exporter": "python",
   "pygments_lexer": "ipython3",
   "version": "3.9.12"
  }
 },
 "nbformat": 4,
 "nbformat_minor": 5
}
